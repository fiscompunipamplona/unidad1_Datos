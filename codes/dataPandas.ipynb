{
 "cells": [
  {
   "cell_type": "code",
   "execution_count": 1,
   "metadata": {},
   "outputs": [],
   "source": [
    "import pandas as pd\n",
    "from numpy import array\n",
    "from pylab import plot, show, grid, xticks"
   ]
  },
  {
   "cell_type": "code",
   "execution_count": 2,
   "metadata": {},
   "outputs": [],
   "source": [
    "data = pd.read_csv('../data/Casos1.csv') # Leyendo datos desde el archivo Casos1.csv"
   ]
  },
  {
   "cell_type": "code",
   "execution_count": 3,
   "metadata": {},
   "outputs": [
    {
     "data": {
      "text/html": [
       "<div>\n",
       "<table border=\"1\" class=\"dataframe\">\n",
       "  <thead>\n",
       "    <tr style=\"text-align: right;\">\n",
       "      <th></th>\n",
       "      <th>﻿\"ID de caso\"</th>\n",
       "      <th>Fecha de diagnóstico</th>\n",
       "      <th>Ciudad de ubicación</th>\n",
       "      <th>Departamento</th>\n",
       "      <th>Atención**</th>\n",
       "      <th>Edad</th>\n",
       "      <th>Sexo</th>\n",
       "      <th>Tipo*</th>\n",
       "      <th>País de procedencia</th>\n",
       "    </tr>\n",
       "  </thead>\n",
       "  <tbody>\n",
       "    <tr>\n",
       "      <th>0</th>\n",
       "      <td>1</td>\n",
       "      <td>06/03/2020</td>\n",
       "      <td>Bogotá</td>\n",
       "      <td>Bogotá</td>\n",
       "      <td>Recuperado</td>\n",
       "      <td>10 a 19</td>\n",
       "      <td>F</td>\n",
       "      <td>Importado</td>\n",
       "      <td>Italia</td>\n",
       "    </tr>\n",
       "    <tr>\n",
       "      <th>1</th>\n",
       "      <td>2</td>\n",
       "      <td>09/03/2020</td>\n",
       "      <td>Buga</td>\n",
       "      <td>Valle</td>\n",
       "      <td>Recuperado</td>\n",
       "      <td>30 a 39</td>\n",
       "      <td>M</td>\n",
       "      <td>Importado</td>\n",
       "      <td>España</td>\n",
       "    </tr>\n",
       "    <tr>\n",
       "      <th>2</th>\n",
       "      <td>3</td>\n",
       "      <td>09/03/2020</td>\n",
       "      <td>Medellín</td>\n",
       "      <td>Antioquia</td>\n",
       "      <td>Recuperado</td>\n",
       "      <td>50 a 59</td>\n",
       "      <td>F</td>\n",
       "      <td>Importado</td>\n",
       "      <td>España</td>\n",
       "    </tr>\n",
       "    <tr>\n",
       "      <th>3</th>\n",
       "      <td>4</td>\n",
       "      <td>11/03/2020</td>\n",
       "      <td>Medellín</td>\n",
       "      <td>Antioquia</td>\n",
       "      <td>En casa</td>\n",
       "      <td>50 a 59</td>\n",
       "      <td>M</td>\n",
       "      <td>Relacionado</td>\n",
       "      <td>Colombia</td>\n",
       "    </tr>\n",
       "    <tr>\n",
       "      <th>4</th>\n",
       "      <td>5</td>\n",
       "      <td>11/03/2020</td>\n",
       "      <td>Medellín</td>\n",
       "      <td>Antioquia</td>\n",
       "      <td>Recuperado</td>\n",
       "      <td>20 a 29</td>\n",
       "      <td>M</td>\n",
       "      <td>Relacionado</td>\n",
       "      <td>Colombia</td>\n",
       "    </tr>\n",
       "  </tbody>\n",
       "</table>\n",
       "</div>"
      ],
      "text/plain": [
       "   ﻿\"ID de caso\" Fecha de diagnóstico Ciudad de ubicación Departamento  \\\n",
       "0              1           06/03/2020              Bogotá       Bogotá   \n",
       "1              2           09/03/2020                Buga        Valle   \n",
       "2              3           09/03/2020            Medellín    Antioquia   \n",
       "3              4           11/03/2020            Medellín    Antioquia   \n",
       "4              5           11/03/2020            Medellín    Antioquia   \n",
       "\n",
       "   Atención**     Edad Sexo        Tipo* País de procedencia  \n",
       "0  Recuperado  10 a 19    F    Importado              Italia  \n",
       "1  Recuperado  30 a 39    M    Importado              España  \n",
       "2  Recuperado  50 a 59    F    Importado              España  \n",
       "3     En casa  50 a 59    M  Relacionado            Colombia  \n",
       "4  Recuperado  20 a 29    M  Relacionado            Colombia  "
      ]
     },
     "execution_count": 3,
     "metadata": {},
     "output_type": "execute_result"
    }
   ],
   "source": [
    "data.head() # Muestra las primeras cinco líneas del archivo Casos1.csv"
   ]
  },
  {
   "cell_type": "code",
   "execution_count": 4,
   "metadata": {},
   "outputs": [],
   "source": [
    "dataSex = pd.DataFrame(data, columns= ['Fecha de diagnóstico','Sexo','Edad']) # Cargando en la variable dataSex los campos: Fecha diagnóstico, Sexo y Edad"
   ]
  },
  {
   "cell_type": "code",
   "execution_count": 5,
   "metadata": {},
   "outputs": [
    {
     "name": "stdout",
     "output_type": "stream",
     "text": [
      "Edad\n",
      "0 a 9       4\n",
      "10 a 19    13\n",
      "20 a 29    71\n",
      "30 a 39    66\n",
      "40 a 49    68\n",
      "50 a 59    54\n",
      "60 a 69    38\n",
      "70 a 79    13\n",
      "80 a 89    13\n",
      "Name: Sexo, dtype: int64 Edad\n",
      "0 a 9       4\n",
      "10 a 19    10\n",
      "20 a 29    82\n",
      "30 a 39    87\n",
      "40 a 49    53\n",
      "50 a 59    69\n",
      "60 a 69    32\n",
      "70 a 79    18\n",
      "80 a 89     7\n",
      "Name: Sexo, dtype: int64\n"
     ]
    }
   ],
   "source": [
    "histo = dataSex.groupby('Edad')['Sexo'].sum() # Suma el número de apariciones de M y F: Masculino, Femenino\n",
    "\n",
    "print(histo.str.count('F'), histo.str.count('M'))"
   ]
  },
  {
   "cell_type": "code",
   "execution_count": 6,
   "metadata": {},
   "outputs": [
    {
     "name": "stdout",
     "output_type": "stream",
     "text": [
      "hombres: 362 51.57 %\n",
      "Mujeres: 340 48.43 %\n",
      "Total: 702\n"
     ]
    }
   ],
   "source": [
    "male = histo.str.count('M')\n",
    "female = histo.str.count('F')\n",
    "total = male.sum()+female.sum()\n",
    "\n",
    "print(\"hombres:\",male.sum(), round((male.sum()/total)*100,2), \"%\")\n",
    "print(\"Mujeres:\",female.sum(), round((female.sum()/total)*100,2), \"%\")\n",
    "print(\"Total:\", total)"
   ]
  },
  {
   "cell_type": "code",
   "execution_count": 7,
   "metadata": {},
   "outputs": [
    {
     "data": {
      "image/png": "[encoded data removed]",
      "text/plain": [
       "<Figure size 432x288 with 1 Axes>"
      ]
     },
     "metadata": {
      "needs_background": "light"
     },
     "output_type": "display_data"
    }
   ],
   "source": [
    "plot(histo.str.count('M'),'bX')\n",
    "plot(histo.str.count('F'),'r.')\n",
    "xticks(rotation=45)\n",
    "grid()\n",
    "show()"
   ]
  },
  {
   "cell_type": "code",
   "execution_count": null,
   "metadata": {},
   "outputs": [],
   "source": []
  }
 ],
 "metadata": {
  "kernelspec": {
   "display_name": "Python 3",
   "language": "python",
   "name": "python3"
  },
  "language_info": {
   "codemirror_mode": {
    "name": "ipython",
    "version": 3
   },
   "file_extension": ".py",
   "mimetype": "text/x-python",
   "name": "python",
   "nbconvert_exporter": "python",
   "pygments_lexer": "ipython3",
   "version": "3.5.2"
  }
 },
 "nbformat": 4,
 "nbformat_minor": 2
}
