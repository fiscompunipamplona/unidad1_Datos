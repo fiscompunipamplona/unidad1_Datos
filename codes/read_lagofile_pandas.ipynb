{
 "cells": [
  {
   "cell_type": "code",
   "execution_count": 1,
   "metadata": {},
   "outputs": [],
   "source": [
    "import pandas as pd"
   ]
  },
  {
   "cell_type": "code",
   "execution_count": 2,
   "metadata": {},
   "outputs": [],
   "source": [
    "#data = pd.read_csv('../data/Chitaga_2016_08_12_12h00.dat.bz2',compression='bz2', sep=\" \", names=[\"ch1\",\"ch2\",\"ch3\"])\n",
    "data = pd.read_csv('test.dat.bz2',compression='bz2', sep=\" \", names=[\"ch1\",\"ch2\",\"ch3\",\"temp\",\"unit\",\"press\"])"
   ]
  },
  {
   "cell_type": "code",
   "execution_count": 7,
   "metadata": {},
   "outputs": [
    {
     "name": "stdout",
     "output_type": "stream",
     "text": [
      "13201\n",
      "# v 5 nan\n"
     ]
    }
   ],
   "source": [
    "print(len(data[\"ch1\"]))\n",
    "n = 0\n",
    "print(data[\"ch1\"][n], data[\"ch2\"][n], data[\"ch3\"][n], data[\"temp\"][n])"
   ]
  },
  {
   "cell_type": "code",
   "execution_count": 15,
   "metadata": {},
   "outputs": [
    {
     "name": "stdout",
     "output_type": "stream",
     "text": [
      "81 65\n",
      "122 55\n",
      "74 56\n",
      "68 50\n",
      "61 57\n",
      "53 50\n",
      "53 49\n",
      "52 49\n",
      "53 50\n",
      "52 50\n",
      "51 49\n",
      "# t\n",
      "50 49\n",
      "134 49\n",
      "59 50\n",
      "52 49\n",
      "52 49\n",
      "50 49\n",
      "52 50\n",
      "51 49\n",
      "52 50\n",
      "50 49\n"
     ]
    }
   ],
   "source": [
    "n = 0\n",
    "\n",
    "for i in range(len(data[\"ch1\"])):\n",
    "    if data[\"ch1\"][i] != \"#\":\n",
    "        print (data[\"ch1\"][i+1], data[\"ch2\"][i+1])\n",
    "    n += 1\n",
    "    if n == 60:\n",
    "        break"
   ]
  },
  {
   "cell_type": "code",
   "execution_count": null,
   "metadata": {},
   "outputs": [],
   "source": []
  }
 ],
 "metadata": {
  "kernelspec": {
   "display_name": "Python 3",
   "language": "python",
   "name": "python3"
  },
  "language_info": {
   "codemirror_mode": {
    "name": "ipython",
    "version": 3
   },
   "file_extension": ".py",
   "mimetype": "text/x-python",
   "name": "python",
   "nbconvert_exporter": "python",
   "pygments_lexer": "ipython3",
   "version": "3.5.2"
  }
 },
 "nbformat": 4,
 "nbformat_minor": 2
}
